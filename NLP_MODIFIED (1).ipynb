{
  "nbformat": 4,
  "nbformat_minor": 0,
  "metadata": {
    "colab": {
      "provenance": []
    },
    "kernelspec": {
      "name": "python3",
      "display_name": "Python 3"
    },
    "language_info": {
      "name": "python"
    }
  },
  "cells": [
    {
      "cell_type": "markdown",
      "source": [
        "LIBRARY INSTALLATION"
      ],
      "metadata": {
        "id": "9wMizNPCnDHi"
      }
    },
    {
      "cell_type": "code",
      "source": [
        "!pip install gensim"
      ],
      "metadata": {
        "colab": {
          "base_uri": "https://localhost:8080/"
        },
        "id": "b5piKpiXdqvL",
        "outputId": "10187714-81ca-43ee-9542-ff42f009cc9d"
      },
      "execution_count": null,
      "outputs": [
        {
          "output_type": "stream",
          "name": "stdout",
          "text": [
            "Requirement already satisfied: gensim in /usr/local/lib/python3.11/dist-packages (4.3.3)\n",
            "Requirement already satisfied: numpy<2.0,>=1.18.5 in /usr/local/lib/python3.11/dist-packages (from gensim) (1.26.4)\n",
            "Requirement already satisfied: scipy<1.14.0,>=1.7.0 in /usr/local/lib/python3.11/dist-packages (from gensim) (1.13.1)\n",
            "Requirement already satisfied: smart-open>=1.8.1 in /usr/local/lib/python3.11/dist-packages (from gensim) (7.1.0)\n",
            "Requirement already satisfied: wrapt in /usr/local/lib/python3.11/dist-packages (from smart-open>=1.8.1->gensim) (1.17.2)\n"
          ]
        }
      ]
    },
    {
      "cell_type": "code",
      "source": [
        "!pip install numpy --upgrade --force-reinstall\n",
        "!pip install gensim --upgrade --force-reinstall"
      ],
      "metadata": {
        "colab": {
          "base_uri": "https://localhost:8080/"
        },
        "id": "DGZYhWsLd29P",
        "outputId": "905eeaf7-5e61-4b02-9e53-bcab4728ef3f"
      },
      "execution_count": null,
      "outputs": [
        {
          "output_type": "stream",
          "name": "stdout",
          "text": [
            "Collecting numpy\n",
            "  Using cached numpy-2.2.4-cp311-cp311-manylinux_2_17_x86_64.manylinux2014_x86_64.whl.metadata (62 kB)\n",
            "Using cached numpy-2.2.4-cp311-cp311-manylinux_2_17_x86_64.manylinux2014_x86_64.whl (16.4 MB)\n",
            "Installing collected packages: numpy\n",
            "  Attempting uninstall: numpy\n",
            "    Found existing installation: numpy 1.26.4\n",
            "    Uninstalling numpy-1.26.4:\n",
            "      Successfully uninstalled numpy-1.26.4\n",
            "\u001b[31mERROR: pip's dependency resolver does not currently take into account all the packages that are installed. This behaviour is the source of the following dependency conflicts.\n",
            "gensim 4.3.3 requires numpy<2.0,>=1.18.5, but you have numpy 2.2.4 which is incompatible.\n",
            "numba 0.60.0 requires numpy<2.1,>=1.22, but you have numpy 2.2.4 which is incompatible.\n",
            "tensorflow 2.18.0 requires numpy<2.1.0,>=1.26.0, but you have numpy 2.2.4 which is incompatible.\u001b[0m\u001b[31m\n",
            "\u001b[0mSuccessfully installed numpy-2.2.4\n",
            "Collecting gensim\n",
            "  Using cached gensim-4.3.3-cp311-cp311-manylinux_2_17_x86_64.manylinux2014_x86_64.whl.metadata (8.1 kB)\n",
            "Collecting numpy<2.0,>=1.18.5 (from gensim)\n",
            "  Using cached numpy-1.26.4-cp311-cp311-manylinux_2_17_x86_64.manylinux2014_x86_64.whl.metadata (61 kB)\n",
            "Collecting scipy<1.14.0,>=1.7.0 (from gensim)\n",
            "  Using cached scipy-1.13.1-cp311-cp311-manylinux_2_17_x86_64.manylinux2014_x86_64.whl.metadata (60 kB)\n",
            "Collecting smart-open>=1.8.1 (from gensim)\n",
            "  Using cached smart_open-7.1.0-py3-none-any.whl.metadata (24 kB)\n",
            "Collecting wrapt (from smart-open>=1.8.1->gensim)\n",
            "  Using cached wrapt-1.17.2-cp311-cp311-manylinux_2_5_x86_64.manylinux1_x86_64.manylinux_2_17_x86_64.manylinux2014_x86_64.whl.metadata (6.4 kB)\n",
            "Using cached gensim-4.3.3-cp311-cp311-manylinux_2_17_x86_64.manylinux2014_x86_64.whl (26.7 MB)\n",
            "Using cached numpy-1.26.4-cp311-cp311-manylinux_2_17_x86_64.manylinux2014_x86_64.whl (18.3 MB)\n",
            "Using cached scipy-1.13.1-cp311-cp311-manylinux_2_17_x86_64.manylinux2014_x86_64.whl (38.6 MB)\n",
            "Using cached smart_open-7.1.0-py3-none-any.whl (61 kB)\n",
            "Using cached wrapt-1.17.2-cp311-cp311-manylinux_2_5_x86_64.manylinux1_x86_64.manylinux_2_17_x86_64.manylinux2014_x86_64.whl (83 kB)\n",
            "Installing collected packages: wrapt, numpy, smart-open, scipy, gensim\n",
            "  Attempting uninstall: wrapt\n",
            "    Found existing installation: wrapt 1.17.2\n",
            "    Uninstalling wrapt-1.17.2:\n",
            "      Successfully uninstalled wrapt-1.17.2\n",
            "  Attempting uninstall: numpy\n",
            "    Found existing installation: numpy 2.2.4\n",
            "    Uninstalling numpy-2.2.4:\n",
            "      Successfully uninstalled numpy-2.2.4\n",
            "  Attempting uninstall: smart-open\n",
            "    Found existing installation: smart-open 7.1.0\n",
            "    Uninstalling smart-open-7.1.0:\n",
            "      Successfully uninstalled smart-open-7.1.0\n",
            "  Attempting uninstall: scipy\n",
            "    Found existing installation: scipy 1.13.1\n",
            "    Uninstalling scipy-1.13.1:\n",
            "      Successfully uninstalled scipy-1.13.1\n",
            "  Attempting uninstall: gensim\n",
            "    Found existing installation: gensim 4.3.3\n",
            "    Uninstalling gensim-4.3.3:\n",
            "      Successfully uninstalled gensim-4.3.3\n",
            "Successfully installed gensim-4.3.3 numpy-1.26.4 scipy-1.13.1 smart-open-7.1.0 wrapt-1.17.2\n"
          ]
        }
      ]
    },
    {
      "cell_type": "code",
      "source": [
        "import numpy as np\n",
        "import pandas as pd\n",
        "import matplotlib.pyplot as plt\n",
        "import seaborn as sns\n",
        "from tqdm import tqdm\n",
        "import re\n",
        "import nltk\n",
        "from nltk.corpus import stopwords\n",
        "from nltk.tokenize import word_tokenize\n",
        "from nltk.stem import PorterStemmer, WordNetLemmatizer\n",
        "from nltk.tag import pos_tag\n",
        "from nltk.chunk import ne_chunk\n",
        "import spacy\n",
        "from sklearn.feature_extraction.text import CountVectorizer, TfidfVectorizer\n",
        "from sklearn.model_selection import train_test_split\n",
        "from sklearn.linear_model import LogisticRegression\n",
        "from sklearn.naive_bayes import MultinomialNB\n",
        "from sklearn.svm import LinearSVC\n",
        "from sklearn.ensemble import RandomForestClassifier\n",
        "from sklearn.metrics import classification_report, confusion_matrix, accuracy_score\n",
        "import tensorflow as tf\n",
        "from tensorflow.keras.preprocessing.text import Tokenizer\n",
        "from tensorflow.keras.preprocessing.sequence import pad_sequences\n",
        "import gensim.downloader as api\n",
        "from gensim.models import Word2Vec\n",
        "import warnings\n",
        "warnings.filterwarnings('ignore')\n"
      ],
      "metadata": {
        "id": "mefDnOHBm-Uw"
      },
      "execution_count": null,
      "outputs": []
    },
    {
      "cell_type": "markdown",
      "source": [
        "LOAD DATASET"
      ],
      "metadata": {
        "id": "MH9pZ0mko-ei"
      }
    },
    {
      "cell_type": "code",
      "source": [
        "df = pd.read_csv('IMDB Dataset.csv')"
      ],
      "metadata": {
        "id": "F8pYLwWso5j9"
      },
      "execution_count": null,
      "outputs": []
    },
    {
      "cell_type": "markdown",
      "source": [
        "EXPLORATION OF DATASET"
      ],
      "metadata": {
        "id": "KnB3BZ7Ppk0f"
      }
    },
    {
      "cell_type": "code",
      "source": [
        "print(\"Dataset Shape:\", df.shape)\n",
        "print(\"\\nDataset Info:\")\n",
        "print(\"\\nSample Data:\")\n",
        "print(df.head())\n",
        "plt.figure(figsize=(8, 6))\n",
        "df['sentiment'].value_counts().plot(kind='bar', color=['blue', 'orange'])\n",
        "plt.title('Sentiment Distribution')\n",
        "plt.xlabel('Sentiment')\n",
        "plt.ylabel('Count')\n",
        "plt.xticks(rotation=0)\n",
        "plt.show()\n",
        "\n"
      ],
      "metadata": {
        "colab": {
          "base_uri": "https://localhost:8080/",
          "height": 755
        },
        "id": "fcSFukKRpraX",
        "outputId": "c75e5bc0-e28e-4d04-bede-0941d450d944"
      },
      "execution_count": null,
      "outputs": [
        {
          "output_type": "stream",
          "name": "stdout",
          "text": [
            "Dataset Shape: (50000, 2)\n",
            "\n",
            "Dataset Info:\n",
            "\n",
            "Sample Data:\n",
            "                                              review sentiment\n",
            "0  One of the other reviewers has mentioned that ...  positive\n",
            "1  A wonderful little production. <br /><br />The...  positive\n",
            "2  I thought this was a wonderful way to spend ti...  positive\n",
            "3  Basically there's a family where a little boy ...  negative\n",
            "4  Petter Mattei's \"Love in the Time of Money\" is...  positive\n"
          ]
        },
        {
          "output_type": "display_data",
          "data": {
            "text/plain": [
              "<Figure size 800x600 with 1 Axes>"
            ],
            "image/png": "[encoded data removed]"
          },
          "metadata": {}
        }
      ]
    },
    {
      "cell_type": "code",
      "source": [
        "import re\n",
        "def clean_text(text):\n",
        "    text = text.lower()\n",
        "    text = re.sub(r'<.*?>', '', text)\n",
        "    text = re.sub(r'[^a-zA-Z\\s]', '', text)\n",
        "    text = re.sub(r'\\s+', ' ', text).strip()\n",
        "    return text\n",
        "sample_review = df['review'][0]\n",
        "print(\"Original Review:\\n\", sample_review[:200], \"...\\n\")\n",
        "print(\"Cleaned Review:\\n\", clean_text(sample_review)[:200], \"...\")\n"
      ],
      "metadata": {
        "colab": {
          "base_uri": "https://localhost:8080/"
        },
        "id": "7h_qndhPp2Oe",
        "outputId": "54f61cf2-1393-4a46-a5e9-5846d5bce144"
      },
      "execution_count": null,
      "outputs": [
        {
          "output_type": "stream",
          "name": "stdout",
          "text": [
            "Original Review:\n",
            " One of the other reviewers has mentioned that after watching just 1 Oz episode you'll be hooked. They are right, as this is exactly what happened with me.<br /><br />The first thing that struck me abo ...\n",
            "\n",
            "Cleaned Review:\n",
            " one of the other reviewers has mentioned that after watching just oz episode youll be hooked they are right as this is exactly what happened with methe first thing that struck me about oz was its brut ...\n"
          ]
        }
      ]
    },
    {
      "cell_type": "markdown",
      "source": [
        "TOKENIZATION"
      ],
      "metadata": {
        "id": "p4RuXIJgFzPw"
      }
    },
    {
      "cell_type": "code",
      "source": [
        "import nltk\n",
        "from nltk.tokenize import word_tokenize\n",
        "from nltk.corpus import stopwords\n",
        "nltk.download('punkt')\n",
        "nltk.download('stopwords')\n",
        "nltk.download('punkt_tab')\n",
        "def preprocess_text(text):\n",
        "    text = clean_text(text)\n",
        "    tokens = word_tokenize(text)\n",
        "    stop_words = set(stopwords.words('english'))\n",
        "    tokens = [word for word in tokens if word not in stop_words]\n",
        "    return tokens\n",
        "tokens = preprocess_text(sample_review)\n",
        "print(\"Tokenized & Stopwords Removed:\\n\", tokens[:20], \"...\")\n"
      ],
      "metadata": {
        "colab": {
          "base_uri": "https://localhost:8080/"
        },
        "id": "NGQp3JF6qgfn",
        "outputId": "62533b8f-61e6-491f-f563-db5b11ac900d"
      },
      "execution_count": null,
      "outputs": [
        {
          "output_type": "stream",
          "name": "stderr",
          "text": [
            "[nltk_data] Downloading package punkt to /root/nltk_data...\n",
            "[nltk_data]   Unzipping tokenizers/punkt.zip.\n",
            "[nltk_data] Downloading package stopwords to /root/nltk_data...\n",
            "[nltk_data]   Unzipping corpora/stopwords.zip.\n",
            "[nltk_data] Downloading package punkt_tab to /root/nltk_data...\n",
            "[nltk_data]   Unzipping tokenizers/punkt_tab.zip.\n"
          ]
        },
        {
          "output_type": "stream",
          "name": "stdout",
          "text": [
            "Tokenized & Stopwords Removed:\n",
            " ['one', 'reviewers', 'mentioned', 'watching', 'oz', 'episode', 'youll', 'hooked', 'right', 'exactly', 'happened', 'methe', 'first', 'thing', 'struck', 'oz', 'brutality', 'unflinching', 'scenes', 'violence'] ...\n"
          ]
        }
      ]
    },
    {
      "cell_type": "code",
      "source": [
        "import nltk\n",
        "import spacy\n",
        "from nltk.tokenize import word_tokenize\n",
        "from nltk.tag import pos_tag\n",
        "nltk.download('punkt')\n",
        "nltk.download('averaged_perceptron_tagger_eng')\n",
        "nlp = spacy.load('en_core_web_sm')\n",
        "\n",
        "def analyze_text(text):\n",
        "    tokens = word_tokenize(text)\n",
        "    pos_tags = pos_tag(tokens)\n",
        "    doc = nlp(text)\n",
        "    entities = [(ent.text, ent.label_) for ent in doc.ents]\n",
        "\n",
        "    return pos_tags[:20], entities[:5]\n",
        "pos_tags, entities = analyze_text(sample_review)\n",
        "print(\"POS Tags (first 20):\\n\", pos_tags)\n",
        "print(\"\\nNamed Entities (first 5):\\n\", entities)"
      ],
      "metadata": {
        "colab": {
          "base_uri": "https://localhost:8080/"
        },
        "id": "5MrKaqwzrURx",
        "outputId": "14e06a15-6383-43fb-a2cd-69955bf3bf96"
      },
      "execution_count": null,
      "outputs": [
        {
          "output_type": "stream",
          "name": "stderr",
          "text": [
            "[nltk_data] Downloading package punkt to /root/nltk_data...\n",
            "[nltk_data]   Package punkt is already up-to-date!\n",
            "[nltk_data] Downloading package averaged_perceptron_tagger_eng to\n",
            "[nltk_data]     /root/nltk_data...\n",
            "[nltk_data]   Unzipping taggers/averaged_perceptron_tagger_eng.zip.\n"
          ]
        },
        {
          "output_type": "stream",
          "name": "stdout",
          "text": [
            "POS Tags (first 20):\n",
            " [('One', 'CD'), ('of', 'IN'), ('the', 'DT'), ('other', 'JJ'), ('reviewers', 'NNS'), ('has', 'VBZ'), ('mentioned', 'VBN'), ('that', 'IN'), ('after', 'IN'), ('watching', 'VBG'), ('just', 'RB'), ('1', 'CD'), ('Oz', 'NNP'), ('episode', 'NN'), ('you', 'PRP'), (\"'ll\", 'MD'), ('be', 'VB'), ('hooked', 'VBN'), ('.', '.'), ('They', 'PRP')]\n",
            "\n",
            "Named Entities (first 5):\n",
            " [('One', 'CARDINAL'), ('1', 'CARDINAL'), ('GO', 'ORG'), ('OZ', 'ORG'), ('the Oswald Maximum Security State Penitentary', 'ORG')]\n"
          ]
        }
      ]
    },
    {
      "cell_type": "markdown",
      "source": [
        "STEMMING&LEMMATIZATION"
      ],
      "metadata": {
        "id": "pzpxqHsCGofd"
      }
    },
    {
      "cell_type": "code",
      "source": [
        "import nltk\n",
        "from nltk.stem import PorterStemmer, WordNetLemmatizer\n",
        "nltk.download('wordnet')\n",
        "nltk.download('omw-1.4')\n",
        "def stem_and_lemmatize(tokens):\n",
        "    stemmer = PorterStemmer()\n",
        "    lemmatizer = WordNetLemmatizer()\n",
        "\n",
        "    stemmed = [stemmer.stem(token) for token in tokens]\n",
        "    lemmatized = [lemmatizer.lemmatize(token) for token in tokens]\n",
        "\n",
        "    return stemmed, lemmatized\n",
        "sample_tokens = tokens[:10]\n",
        "stemmed, lemmatized = stem_and_lemmatize(sample_tokens)\n",
        "\n",
        "print(\"Original Tokens:\\n\", sample_tokens)\n",
        "print(\"\\nStemmed:\\n\", stemmed)\n",
        "print(\"\\nLemmatized:\\n\", lemmatized)\n"
      ],
      "metadata": {
        "colab": {
          "base_uri": "https://localhost:8080/"
        },
        "id": "VF-xz1nOrd0a",
        "outputId": "c7748c5f-3e0e-4165-ffc1-38f72bff86ae"
      },
      "execution_count": null,
      "outputs": [
        {
          "output_type": "stream",
          "name": "stderr",
          "text": [
            "[nltk_data] Downloading package wordnet to /root/nltk_data...\n",
            "[nltk_data] Downloading package omw-1.4 to /root/nltk_data...\n"
          ]
        },
        {
          "output_type": "stream",
          "name": "stdout",
          "text": [
            "Original Tokens:\n",
            " ['one', 'reviewers', 'mentioned', 'watching', 'oz', 'episode', 'youll', 'hooked', 'right', 'exactly']\n",
            "\n",
            "Stemmed:\n",
            " ['one', 'review', 'mention', 'watch', 'oz', 'episod', 'youll', 'hook', 'right', 'exactli']\n",
            "\n",
            "Lemmatized:\n",
            " ['one', 'reviewer', 'mentioned', 'watching', 'oz', 'episode', 'youll', 'hooked', 'right', 'exactly']\n"
          ]
        }
      ]
    },
    {
      "cell_type": "markdown",
      "source": [
        "TEXT REPRESENTATION"
      ],
      "metadata": {
        "id": "9zS1qCs5rsEu"
      }
    },
    {
      "cell_type": "code",
      "source": [
        "import gensim.downloader as api\n",
        "from sklearn.feature_extraction.text import CountVectorizer, TfidfVectorizer\n",
        "word2vec_model = api.load('word2vec-google-news-300')\n",
        "def compare_word_similarities(model, word_pairs):\n",
        "    print(\"\\n Word Similarity Comparison:\")\n",
        "    print(\"=\" * 50)\n",
        "    for word1, word2 in word_pairs:\n",
        "        try:\n",
        "            similarity = model.similarity(word1, word2)\n",
        "            category = \"High\" if similarity > 0.6 else \"Moderate\" if similarity > 0.3 else \"Low\"\n",
        "            print(f\"🔹 Similarity between '{word1}' & '{word2}': {similarity:.3f} ({category} similarity)\")\n",
        "        except KeyError:\n",
        "            print(f\" '{word1}' or '{word2}' not in vocabulary\")\n",
        "    print(\"=\" * 50)\n",
        "related_pairs = [('king', 'queen'), ('france', 'paris'), ('computer', 'laptop')]\n",
        "context_pairs = [('breakfast', 'dinner'), ('happy', 'sad'), ('buy', 'sell')]\n",
        "unrelated_pairs = [('pizza', 'computer'), ('sunshine', 'algebra'), ('elephant', 'guitar')]\n",
        "compare_word_similarities(word2vec_model, related_pairs)\n",
        "compare_word_similarities(word2vec_model, context_pairs)\n",
        "compare_word_similarities(word2vec_model, unrelated_pairs)\n",
        "print(\"\\n BoW vs. TF-IDF Representation:\")\n",
        "example_text = [\"This movie was great! I really loved the amazing acting and brilliant story\"]\n",
        "bow_vectorizer = CountVectorizer()\n",
        "bow_features = bow_vectorizer.fit_transform(example_text)\n",
        "bow_dict = dict(zip(bow_vectorizer.get_feature_names_out(), bow_features.toarray()[0]))\n",
        "tfidf_vectorizer = TfidfVectorizer()\n",
        "tfidf_features = tfidf_vectorizer.fit_transform(example_text)\n",
        "tfidf_dict = dict(zip(tfidf_vectorizer.get_feature_names_out(), tfidf_features.toarray()[0]))\n",
        "print(\"\\n🔹 Bag of Words (Word Counts):\")\n",
        "for word, count in sorted(bow_dict.items(), key=lambda x: x[1], reverse=True):\n",
        "    print(f\"'{word}': {int(count)} occurrences\")\n",
        "\n",
        "print(\"\\n🔹 TF-IDF (Term Importance):\")\n",
        "for word, score in sorted(tfidf_dict.items(), key=lambda x: x[1], reverse=True):\n",
        "    print(f\"'{word}': {score:.3f} importance score\")\n"
      ],
      "metadata": {
        "colab": {
          "base_uri": "https://localhost:8080/"
        },
        "id": "WDrbd4Crr0XV",
        "outputId": "ad3169e8-7c49-4698-de5a-f077db3cc18b"
      },
      "execution_count": null,
      "outputs": [
        {
          "output_type": "stream",
          "name": "stdout",
          "text": [
            "[==================================================] 100.0% 1662.8/1662.8MB downloaded\n",
            "\n",
            " Word Similarity Comparison:\n",
            "==================================================\n",
            "🔹 Similarity between 'king' & 'queen': 0.651 (High similarity)\n",
            "🔹 Similarity between 'france' & 'paris': 0.555 (Moderate similarity)\n",
            "🔹 Similarity between 'computer' & 'laptop': 0.664 (High similarity)\n",
            "==================================================\n",
            "\n",
            " Word Similarity Comparison:\n",
            "==================================================\n",
            "🔹 Similarity between 'breakfast' & 'dinner': 0.701 (High similarity)\n",
            "🔹 Similarity between 'happy' & 'sad': 0.535 (Moderate similarity)\n",
            "🔹 Similarity between 'buy' & 'sell': 0.831 (High similarity)\n",
            "==================================================\n",
            "\n",
            " Word Similarity Comparison:\n",
            "==================================================\n",
            "🔹 Similarity between 'pizza' & 'computer': 0.158 (Low similarity)\n",
            "🔹 Similarity between 'sunshine' & 'algebra': 0.041 (Low similarity)\n",
            "🔹 Similarity between 'elephant' & 'guitar': 0.031 (Low similarity)\n",
            "==================================================\n",
            "\n",
            " BoW vs. TF-IDF Representation:\n",
            "\n",
            "🔹 Bag of Words (Word Counts):\n",
            "'acting': 1 occurrences\n",
            "'amazing': 1 occurrences\n",
            "'and': 1 occurrences\n",
            "'brilliant': 1 occurrences\n",
            "'great': 1 occurrences\n",
            "'loved': 1 occurrences\n",
            "'movie': 1 occurrences\n",
            "'really': 1 occurrences\n",
            "'story': 1 occurrences\n",
            "'the': 1 occurrences\n",
            "'this': 1 occurrences\n",
            "'was': 1 occurrences\n",
            "\n",
            "🔹 TF-IDF (Term Importance):\n",
            "'acting': 0.289 importance score\n",
            "'amazing': 0.289 importance score\n",
            "'and': 0.289 importance score\n",
            "'brilliant': 0.289 importance score\n",
            "'great': 0.289 importance score\n",
            "'loved': 0.289 importance score\n",
            "'movie': 0.289 importance score\n",
            "'really': 0.289 importance score\n",
            "'story': 0.289 importance score\n",
            "'the': 0.289 importance score\n",
            "'this': 0.289 importance score\n",
            "'was': 0.289 importance score\n"
          ]
        }
      ]
    },
    {
      "cell_type": "markdown",
      "source": [
        "IMPLEMENTATION USING deep learning"
      ],
      "metadata": {
        "id": "JrGGXmoIsTJF"
      }
    },
    {
      "cell_type": "code",
      "source": [
        "from tqdm import tqdm\n",
        "\n",
        "# Enable progress_apply for pandas\n",
        "tqdm.pandas()\n",
        "\n",
        "# Apply preprocessing function with progress tracking\n",
        "df['processed_text'] = df['review'].progress_apply(preprocess_text)\n",
        "\n",
        "# Join tokens back into a single string for TF-IDF vectorization\n",
        "df['processed_text'] = df['processed_text'].apply(lambda tokens: ' '.join(tokens))\n",
        "\n",
        "print(\"✅ All reviews preprocessed and ready for vectorization!\")\n"
      ],
      "metadata": {
        "colab": {
          "base_uri": "https://localhost:8080/"
        },
        "id": "d76QAe9qiQCn",
        "outputId": "f3ddd058-f1ff-467f-c0ab-a42d58eb6d04"
      },
      "execution_count": null,
      "outputs": [
        {
          "output_type": "stream",
          "name": "stderr",
          "text": [
            "100%|██████████| 50000/50000 [00:57<00:00, 869.73it/s]\n"
          ]
        },
        {
          "output_type": "stream",
          "name": "stdout",
          "text": [
            "✅ All reviews preprocessed and ready for vectorization!\n"
          ]
        }
      ]
    },
    {
      "cell_type": "code",
      "source": [
        "from sklearn.model_selection import train_test_split\n",
        "from sklearn.metrics import accuracy_score, classification_report, confusion_matrix\n",
        "from sklearn.feature_extraction.text import TfidfVectorizer\n",
        "from sklearn.linear_model import LogisticRegression\n",
        "from sklearn.naive_bayes import MultinomialNB\n",
        "from sklearn.svm import LinearSVC\n",
        "from sklearn.ensemble import RandomForestClassifier\n",
        "from tensorflow.keras.preprocessing.text import Tokenizer\n",
        "from tensorflow.keras.preprocessing.sequence import pad_sequences\n",
        "\n",
        "# --- Tokenized Data for Neural Networks ---\n",
        "print(\" Preparing tokenized sequences for neural network models...\")\n",
        "max_words = 10000  # Vocabulary size\n",
        "max_len = 200      # Max length of input sequences\n",
        "\n",
        "tokenizer = Tokenizer(num_words=max_words)\n",
        "tokenizer.fit_on_texts(df['processed_text'])\n",
        "\n",
        "# Convert texts to sequences and pad them\n",
        "X_seq = tokenizer.texts_to_sequences(df['processed_text'])\n",
        "X_pad = pad_sequences(X_seq, maxlen=max_len)\n",
        "\n",
        "# Split padded sequences for training/testing\n",
        "X_train_pad, X_test_pad, y_train_pad, y_test_pad = train_test_split(X_pad, y, test_size=0.2, random_state=42)\n",
        "\n",
        "\n",
        "\n"
      ],
      "metadata": {
        "colab": {
          "base_uri": "https://localhost:8080/"
        },
        "id": "WLvKe1ddi5Ou",
        "outputId": "f1401250-774c-4aa2-f4a5-99432e9234ff"
      },
      "execution_count": null,
      "outputs": [
        {
          "output_type": "stream",
          "name": "stdout",
          "text": [
            " Preparing tokenized sequences for neural network models...\n"
          ]
        }
      ]
    },
    {
      "cell_type": "code",
      "source": [
        "import tensorflow as tf\n",
        "from sklearn.metrics import accuracy_score, classification_report, confusion_matrix\n",
        "\n",
        "def create_nn_model(model_type='simple'):\n",
        "\n",
        "    model = tf.keras.Sequential()\n",
        "\n",
        "    # Add embedding layer to convert words into dense vectors\n",
        "    model.add(tf.keras.layers.Embedding(input_dim=max_words, output_dim=32, input_length=max_len))\n",
        "\n",
        "    # Choose model architecture based on type\n",
        "    if model_type == 'simple':\n",
        "        model.add(tf.keras.layers.GlobalAveragePooling1D())\n",
        "    elif model_type == 'rnn':\n",
        "        model.add(tf.keras.layers.SimpleRNN(units=32))\n",
        "    elif model_type == 'lstm':\n",
        "        model.add(tf.keras.layers.LSTM(units=32))\n",
        "    else:\n",
        "        raise ValueError(f\"Unknown model type: {model_type}\")\n",
        "\n",
        "    # Add hidden and output layers\n",
        "    model.add(tf.keras.layers.Dense(units=16, activation='relu'))\n",
        "    model.add(tf.keras.layers.Dense(units=1, activation='sigmoid'))  # Binary classification output\n",
        "\n",
        "    return model\n",
        "\n",
        "def train_evaluate_nn(model_name, model_type, X_train, X_test, y_train, y_test):\n",
        "    \"\"\"\n",
        "    Train and evaluate a neural network model.\n",
        "\n",
        "    Parameters:\n",
        "        model_name (str): Friendly name for the model (for display).\n",
        "        model_type (str): Model architecture type ('simple', 'rnn', or 'lstm').\n",
        "        X_train, X_test, y_train, y_test: Dataset splits.\n",
        "\n",
        "    Returns:\n",
        "        dict: Training results including accuracy, report, and training history.\n",
        "    \"\"\"\n",
        "    print(f\"\\n🚀 Starting training for: {model_name} ({model_type})\")\n",
        "\n",
        "    # Create and compile the model\n",
        "    model = create_nn_model(model_type)\n",
        "    model.compile(optimizer='adam', loss='binary_crossentropy', metrics=['accuracy'])\n",
        "\n",
        "    # Train the model\n",
        "    history = model.fit(\n",
        "        X_train, y_train,\n",
        "        epochs=3,                # Keep epochs small for quick training\n",
        "        batch_size=128,\n",
        "        validation_split=0.2,\n",
        "        verbose=1\n",
        "    )\n",
        "\n",
        "    print(f\" Finished training for: {model_name}\")\n",
        "\n",
        "    # Make predictions and evaluate\n",
        "    predictions = (model.predict(X_test) > 0.5).astype(int)\n",
        "    acc = accuracy_score(y_test, predictions)\n",
        "    report = classification_report(y_test, predictions)\n",
        "    matrix = confusion_matrix(y_test, predictions)\n",
        "\n",
        "    print(f\" Evaluation results for {model_name}:\\nAccuracy: {acc:.4f}\")\n",
        "\n",
        "    return {\n",
        "        'name': model_name,\n",
        "        'accuracy': acc,\n",
        "        'report': report,\n",
        "        'confusion_matrix': matrix,\n",
        "        'history': history.history\n",
        "    }\n",
        "\n",
        "# Define the models to evaluate\n",
        "nn_models = [\n",
        "    ('Simple Neural Network', 'simple'),\n",
        "    ('Recurrent Neural Network (RNN)', 'rnn'),\n",
        "    ('Long Short-Term Memory (LSTM)', 'lstm')\n",
        "]\n",
        "\n",
        "# Train and collect results for each model\n",
        "nn_results = []\n",
        "for model_name, model_type in nn_models:\n",
        "    result = train_evaluate_nn(model_name, model_type, X_train_pad, X_test_pad, y_train_pad, y_test_pad)\n",
        "    nn_results.append(result)\n"
      ],
      "metadata": {
        "colab": {
          "base_uri": "https://localhost:8080/"
        },
        "id": "DmoOq6MvdjWc",
        "outputId": "659372fa-88bc-4dc4-f290-19a595bd237d"
      },
      "execution_count": null,
      "outputs": [
        {
          "output_type": "stream",
          "name": "stdout",
          "text": [
            "\n",
            "🚀 Starting training for: Simple Neural Network (simple)\n",
            "Epoch 1/3\n",
            "\u001b[1m250/250\u001b[0m \u001b[32m━━━━━━━━━━━━━━━━━━━━\u001b[0m\u001b[37m\u001b[0m \u001b[1m4s\u001b[0m 11ms/step - accuracy: 0.6470 - loss: 0.6665 - val_accuracy: 0.8424 - val_loss: 0.4637\n",
            "Epoch 2/3\n",
            "\u001b[1m250/250\u001b[0m \u001b[32m━━━━━━━━━━━━━━━━━━━━\u001b[0m\u001b[37m\u001b[0m \u001b[1m4s\u001b[0m 15ms/step - accuracy: 0.8473 - loss: 0.4063 - val_accuracy: 0.8780 - val_loss: 0.3212\n",
            "Epoch 3/3\n",
            "\u001b[1m250/250\u001b[0m \u001b[32m━━━━━━━━━━━━━━━━━━━━\u001b[0m\u001b[37m\u001b[0m \u001b[1m3s\u001b[0m 10ms/step - accuracy: 0.8866 - loss: 0.2918 - val_accuracy: 0.8840 - val_loss: 0.2937\n",
            " Finished training for: Simple Neural Network\n",
            "\u001b[1m313/313\u001b[0m \u001b[32m━━━━━━━━━━━━━━━━━━━━\u001b[0m\u001b[37m\u001b[0m \u001b[1m1s\u001b[0m 2ms/step\n",
            " Evaluation results for Simple Neural Network:\n",
            "Accuracy: 0.8839\n",
            "\n",
            "🚀 Starting training for: Recurrent Neural Network (RNN) (rnn)\n",
            "Epoch 1/3\n",
            "\u001b[1m250/250\u001b[0m \u001b[32m━━━━━━━━━━━━━━━━━━━━\u001b[0m\u001b[37m\u001b[0m \u001b[1m18s\u001b[0m 64ms/step - accuracy: 0.5910 - loss: 0.6431 - val_accuracy: 0.8342 - val_loss: 0.3792\n",
            "Epoch 2/3\n",
            "\u001b[1m250/250\u001b[0m \u001b[32m━━━━━━━━━━━━━━━━━━━━\u001b[0m\u001b[37m\u001b[0m \u001b[1m18s\u001b[0m 73ms/step - accuracy: 0.8775 - loss: 0.3039 - val_accuracy: 0.8749 - val_loss: 0.3210\n",
            "Epoch 3/3\n",
            "\u001b[1m250/250\u001b[0m \u001b[32m━━━━━━━━━━━━━━━━━━━━\u001b[0m\u001b[37m\u001b[0m \u001b[1m18s\u001b[0m 63ms/step - accuracy: 0.9328 - loss: 0.1833 - val_accuracy: 0.8689 - val_loss: 0.3430\n",
            " Finished training for: Recurrent Neural Network (RNN)\n",
            "\u001b[1m313/313\u001b[0m \u001b[32m━━━━━━━━━━━━━━━━━━━━\u001b[0m\u001b[37m\u001b[0m \u001b[1m4s\u001b[0m 11ms/step\n",
            " Evaluation results for Recurrent Neural Network (RNN):\n",
            "Accuracy: 0.8714\n",
            "\n",
            "🚀 Starting training for: Long Short-Term Memory (LSTM) (lstm)\n",
            "Epoch 1/3\n",
            "\u001b[1m250/250\u001b[0m \u001b[32m━━━━━━━━━━━━━━━━━━━━\u001b[0m\u001b[37m\u001b[0m \u001b[1m33s\u001b[0m 120ms/step - accuracy: 0.7264 - loss: 0.5370 - val_accuracy: 0.8750 - val_loss: 0.2947\n",
            "Epoch 2/3\n",
            "\u001b[1m250/250\u001b[0m \u001b[32m━━━━━━━━━━━━━━━━━━━━\u001b[0m\u001b[37m\u001b[0m \u001b[1m45s\u001b[0m 138ms/step - accuracy: 0.9169 - loss: 0.2213 - val_accuracy: 0.8815 - val_loss: 0.2893\n",
            "Epoch 3/3\n",
            "\u001b[1m250/250\u001b[0m \u001b[32m━━━━━━━━━━━━━━━━━━━━\u001b[0m\u001b[37m\u001b[0m \u001b[1m37s\u001b[0m 121ms/step - accuracy: 0.9396 - loss: 0.1725 - val_accuracy: 0.8748 - val_loss: 0.3337\n",
            " Finished training for: Long Short-Term Memory (LSTM)\n",
            "\u001b[1m313/313\u001b[0m \u001b[32m━━━━━━━━━━━━━━━━━━━━\u001b[0m\u001b[37m\u001b[0m \u001b[1m7s\u001b[0m 23ms/step\n",
            " Evaluation results for Long Short-Term Memory (LSTM):\n",
            "Accuracy: 0.8818\n"
          ]
        }
      ]
    },
    {
      "cell_type": "code",
      "source": [
        "import matplotlib.pyplot as plt\n",
        "import seaborn as sns\n",
        "\n",
        "all_results = nn_results\n",
        "\n",
        "# --- Plot Model Accuracy Comparison ---\n",
        "print(\" Generating accuracy comparison chart...\")\n",
        "\n",
        "plt.figure(figsize=(15, 8))\n",
        "model_names = [result['name'] for result in all_results]\n",
        "accuracies = [result['accuracy'] for result in all_results]\n",
        "\n",
        "sns.set(style=\"whitegrid\")\n",
        "barplot = sns.barplot(x=model_names, y=accuracies, palette=\"viridis\")\n",
        "\n",
        "plt.title('Accuracy Comparison of All Models', fontsize=16)\n",
        "plt.ylabel('Accuracy', fontsize=12)\n",
        "plt.xticks(rotation=45, ha='right')\n",
        "plt.ylim(0, 1.05)  # Set y-axis limit for clarity\n",
        "\n",
        "# Annotate each bar with accuracy value\n",
        "for i, bar in enumerate(barplot.patches):\n",
        "    barplot.text(\n",
        "        bar.get_x() + bar.get_width() / 2,\n",
        "        bar.get_height() + 0.01,\n",
        "        f'{accuracies[i]:.3f}',\n",
        "        ha='center',\n",
        "        fontsize=10,\n",
        "        fontweight='bold'\n",
        "    )\n",
        "\n",
        "plt.tight_layout()\n",
        "plt.show()\n",
        "\n",
        "# --- Print Detailed Evaluation Results ---\n",
        "print(\"\\n Detailed Performance Summary for Each Model\")\n",
        "print(\"=\" * 90)\n",
        "\n",
        "for result in all_results:\n",
        "    print(f\"\\n Model: {result['name']}\")\n",
        "    print(\"-\" * 40)\n",
        "    print(f\"✅ Accuracy: {result['accuracy']:.3f}\")\n",
        "    print(\"\\nClassification Report:\")\n",
        "    print(result['report'])\n",
        "    print(\"\\n Confusion Matrix:\")\n",
        "    print(result['confusion_matrix'])\n",
        "    print(\"=\" * 90)\n"
      ],
      "metadata": {
        "colab": {
          "base_uri": "https://localhost:8080/",
          "height": 1000
        },
        "id": "24FsJBr0khSu",
        "outputId": "77278089-e8b9-44ac-f416-967dfe503931"
      },
      "execution_count": null,
      "outputs": [
        {
          "output_type": "stream",
          "name": "stdout",
          "text": [
            " Generating accuracy comparison chart...\n"
          ]
        },
        {
          "output_type": "display_data",
          "data": {
            "text/plain": [
              "<Figure size 1500x800 with 1 Axes>"
            ],
            "image/png": "[encoded data removed]"
          },
          "metadata": {}
        },
        {
          "output_type": "stream",
          "name": "stdout",
          "text": [
            "\n",
            " Detailed Performance Summary for Each Model\n",
            "==========================================================================================\n",
            "\n",
            " Model: Simple Neural Network\n",
            "----------------------------------------\n",
            "✅ Accuracy: 0.849\n",
            "\n",
            "Classification Report:\n",
            "              precision    recall  f1-score   support\n",
            "\n",
            "           0       0.94      0.75      0.83      4961\n",
            "           1       0.79      0.95      0.86      5039\n",
            "\n",
            "    accuracy                           0.85     10000\n",
            "   macro avg       0.86      0.85      0.85     10000\n",
            "weighted avg       0.86      0.85      0.85     10000\n",
            "\n",
            "\n",
            " Confusion Matrix:\n",
            "[[3698 1263]\n",
            " [ 247 4792]]\n",
            "==========================================================================================\n",
            "\n",
            " Model: Recurrent Neural Network (RNN)\n",
            "----------------------------------------\n",
            "✅ Accuracy: 0.859\n",
            "\n",
            "Classification Report:\n",
            "              precision    recall  f1-score   support\n",
            "\n",
            "           0       0.87      0.83      0.85      4961\n",
            "           1       0.84      0.88      0.86      5039\n",
            "\n",
            "    accuracy                           0.86     10000\n",
            "   macro avg       0.86      0.86      0.86     10000\n",
            "weighted avg       0.86      0.86      0.86     10000\n",
            "\n",
            "\n",
            " Confusion Matrix:\n",
            "[[4141  820]\n",
            " [ 593 4446]]\n",
            "==========================================================================================\n",
            "\n",
            " Model: Long Short-Term Memory (LSTM)\n",
            "----------------------------------------\n",
            "✅ Accuracy: 0.883\n",
            "\n",
            "Classification Report:\n",
            "              precision    recall  f1-score   support\n",
            "\n",
            "           0       0.90      0.86      0.88      4961\n",
            "           1       0.87      0.91      0.89      5039\n",
            "\n",
            "    accuracy                           0.88     10000\n",
            "   macro avg       0.88      0.88      0.88     10000\n",
            "weighted avg       0.88      0.88      0.88     10000\n",
            "\n",
            "\n",
            " Confusion Matrix:\n",
            "[[4255  706]\n",
            " [ 468 4571]]\n",
            "==========================================================================================\n"
          ]
        }
      ]
    }
  ]
}